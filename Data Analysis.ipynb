{
 "cells": [
  {
   "cell_type": "markdown",
   "id": "6c94ccdf",
   "metadata": {},
   "source": [
    "# EXPLORATORY DATA ANALYSIS (EDA)"
   ]
  },
  {
   "cell_type": "markdown",
   "id": "ce8e2283",
   "metadata": {},
   "source": [
    "### Bussiness Questions\n",
    "#### What can we learn about different hosts and areas?\n",
    "#### What can we learn from predictions? (ex: locations, prices, reviews, etc)\n",
    "#### Which hosts are the busiest and why?\n",
    "#### Is there any noticeable difference of traffic among different areas and what could be the reason for it?"
   ]
  },
  {
   "cell_type": "code",
   "execution_count": 1,
   "id": "29bf43c3",
   "metadata": {},
   "outputs": [],
   "source": [
    "import numpy as np\n",
    "import pandas as pd\n",
    "import matplotlib.pyplot as plt\n",
    "%matplotlib inline\n",
    "import seaborn as sns\n",
    "import scipy"
   ]
  },
  {
   "cell_type": "code",
   "execution_count": 2,
   "id": "02e31f6c",
   "metadata": {},
   "outputs": [],
   "source": [
    "df = pd.read_csv(r\"C:\\Users\\HP\\Desktop\\MSc Project\\Myproject\\Proj_ideas\\Airbnb_Analysis\\data\\listingss.csv\")"
   ]
  },
  {
   "cell_type": "code",
   "execution_count": 3,
   "id": "ea0db439",
   "metadata": {},
   "outputs": [
    {
     "data": {
      "text/html": [
       "<div>\n",
       "<style scoped>\n",
       "    .dataframe tbody tr th:only-of-type {\n",
       "        vertical-align: middle;\n",
       "    }\n",
       "\n",
       "    .dataframe tbody tr th {\n",
       "        vertical-align: top;\n",
       "    }\n",
       "\n",
       "    .dataframe thead th {\n",
       "        text-align: right;\n",
       "    }\n",
       "</style>\n",
       "<table border=\"1\" class=\"dataframe\">\n",
       "  <thead>\n",
       "    <tr style=\"text-align: right;\">\n",
       "      <th></th>\n",
       "      <th>id</th>\n",
       "      <th>name</th>\n",
       "      <th>host_id</th>\n",
       "      <th>host_name</th>\n",
       "      <th>neighbourhood_group</th>\n",
       "      <th>neighbourhood</th>\n",
       "      <th>latitude</th>\n",
       "      <th>longitude</th>\n",
       "      <th>room_type</th>\n",
       "      <th>price</th>\n",
       "      <th>minimum_nights</th>\n",
       "      <th>number_of_reviews</th>\n",
       "      <th>last_review</th>\n",
       "      <th>reviews_per_month</th>\n",
       "      <th>calculated_host_listings_count</th>\n",
       "      <th>availability_365</th>\n",
       "      <th>number_of_reviews_ltm</th>\n",
       "      <th>license</th>\n",
       "    </tr>\n",
       "  </thead>\n",
       "  <tbody>\n",
       "    <tr>\n",
       "      <th>0</th>\n",
       "      <td>106332</td>\n",
       "      <td>Lovely large room, Bethnal Green</td>\n",
       "      <td>264345</td>\n",
       "      <td>Susie</td>\n",
       "      <td>NaN</td>\n",
       "      <td>Tower Hamlets</td>\n",
       "      <td>51.52874</td>\n",
       "      <td>-0.05396</td>\n",
       "      <td>Private room</td>\n",
       "      <td>55</td>\n",
       "      <td>3</td>\n",
       "      <td>65</td>\n",
       "      <td>2016-06-10</td>\n",
       "      <td>0.47</td>\n",
       "      <td>1</td>\n",
       "      <td>74</td>\n",
       "      <td>0</td>\n",
       "      <td>NaN</td>\n",
       "    </tr>\n",
       "    <tr>\n",
       "      <th>1</th>\n",
       "      <td>13913</td>\n",
       "      <td>Holiday London DB Room Let-on going</td>\n",
       "      <td>54730</td>\n",
       "      <td>Alina</td>\n",
       "      <td>NaN</td>\n",
       "      <td>Islington</td>\n",
       "      <td>51.56861</td>\n",
       "      <td>-0.11270</td>\n",
       "      <td>Private room</td>\n",
       "      <td>50</td>\n",
       "      <td>1</td>\n",
       "      <td>30</td>\n",
       "      <td>2022-07-15</td>\n",
       "      <td>0.20</td>\n",
       "      <td>2</td>\n",
       "      <td>343</td>\n",
       "      <td>9</td>\n",
       "      <td>NaN</td>\n",
       "    </tr>\n",
       "    <tr>\n",
       "      <th>2</th>\n",
       "      <td>284532</td>\n",
       "      <td>COSY STUDIO-FLAT WITH A GREAT  VIEW</td>\n",
       "      <td>1481412</td>\n",
       "      <td>Luca</td>\n",
       "      <td>NaN</td>\n",
       "      <td>Tower Hamlets</td>\n",
       "      <td>51.52851</td>\n",
       "      <td>-0.07426</td>\n",
       "      <td>Entire home/apt</td>\n",
       "      <td>90</td>\n",
       "      <td>5</td>\n",
       "      <td>42</td>\n",
       "      <td>2022-01-04</td>\n",
       "      <td>0.34</td>\n",
       "      <td>1</td>\n",
       "      <td>222</td>\n",
       "      <td>1</td>\n",
       "      <td>NaN</td>\n",
       "    </tr>\n",
       "    <tr>\n",
       "      <th>3</th>\n",
       "      <td>107048</td>\n",
       "      <td>A Luxury Studio Suite in Clerkenwell</td>\n",
       "      <td>259088</td>\n",
       "      <td>Simon</td>\n",
       "      <td>NaN</td>\n",
       "      <td>Islington</td>\n",
       "      <td>51.52478</td>\n",
       "      <td>-0.10484</td>\n",
       "      <td>Private room</td>\n",
       "      <td>180</td>\n",
       "      <td>4</td>\n",
       "      <td>493</td>\n",
       "      <td>2022-09-02</td>\n",
       "      <td>3.59</td>\n",
       "      <td>5</td>\n",
       "      <td>236</td>\n",
       "      <td>20</td>\n",
       "      <td>NaN</td>\n",
       "    </tr>\n",
       "    <tr>\n",
       "      <th>4</th>\n",
       "      <td>284603</td>\n",
       "      <td>Notting Hill church stay in Heaven!</td>\n",
       "      <td>1481851</td>\n",
       "      <td>Tania</td>\n",
       "      <td>NaN</td>\n",
       "      <td>Kensington and Chelsea</td>\n",
       "      <td>51.51464</td>\n",
       "      <td>-0.20004</td>\n",
       "      <td>Entire home/apt</td>\n",
       "      <td>297</td>\n",
       "      <td>14</td>\n",
       "      <td>6</td>\n",
       "      <td>2022-07-04</td>\n",
       "      <td>0.05</td>\n",
       "      <td>1</td>\n",
       "      <td>180</td>\n",
       "      <td>2</td>\n",
       "      <td>NaN</td>\n",
       "    </tr>\n",
       "  </tbody>\n",
       "</table>\n",
       "</div>"
      ],
      "text/plain": [
       "       id                                  name  host_id host_name  \\\n",
       "0  106332      Lovely large room, Bethnal Green   264345     Susie   \n",
       "1   13913   Holiday London DB Room Let-on going    54730     Alina   \n",
       "2  284532   COSY STUDIO-FLAT WITH A GREAT  VIEW  1481412      Luca   \n",
       "3  107048  A Luxury Studio Suite in Clerkenwell   259088     Simon   \n",
       "4  284603   Notting Hill church stay in Heaven!  1481851     Tania   \n",
       "\n",
       "   neighbourhood_group           neighbourhood  latitude  longitude  \\\n",
       "0                  NaN           Tower Hamlets  51.52874   -0.05396   \n",
       "1                  NaN               Islington  51.56861   -0.11270   \n",
       "2                  NaN           Tower Hamlets  51.52851   -0.07426   \n",
       "3                  NaN               Islington  51.52478   -0.10484   \n",
       "4                  NaN  Kensington and Chelsea  51.51464   -0.20004   \n",
       "\n",
       "         room_type  price  minimum_nights  number_of_reviews last_review  \\\n",
       "0     Private room     55               3                 65  2016-06-10   \n",
       "1     Private room     50               1                 30  2022-07-15   \n",
       "2  Entire home/apt     90               5                 42  2022-01-04   \n",
       "3     Private room    180               4                493  2022-09-02   \n",
       "4  Entire home/apt    297              14                  6  2022-07-04   \n",
       "\n",
       "   reviews_per_month  calculated_host_listings_count  availability_365  \\\n",
       "0               0.47                               1                74   \n",
       "1               0.20                               2               343   \n",
       "2               0.34                               1               222   \n",
       "3               3.59                               5               236   \n",
       "4               0.05                               1               180   \n",
       "\n",
       "   number_of_reviews_ltm  license  \n",
       "0                      0      NaN  \n",
       "1                      9      NaN  \n",
       "2                      1      NaN  \n",
       "3                     20      NaN  \n",
       "4                      2      NaN  "
      ]
     },
     "execution_count": 3,
     "metadata": {},
     "output_type": "execute_result"
    }
   ],
   "source": [
    "df.head()"
   ]
  },
  {
   "cell_type": "code",
   "execution_count": 4,
   "id": "11bceef8",
   "metadata": {},
   "outputs": [
    {
     "data": {
      "text/plain": [
       "(69351, 18)"
      ]
     },
     "execution_count": 4,
     "metadata": {},
     "output_type": "execute_result"
    }
   ],
   "source": [
    "df.shape # There are total 18 columns and 69351 observations"
   ]
  },
  {
   "cell_type": "code",
   "execution_count": 5,
   "id": "d4ee282c",
   "metadata": {},
   "outputs": [
    {
     "data": {
      "text/plain": [
       "Text(0.5, 1.0, 'Heatmap for Outliers')"
      ]
     },
     "execution_count": 5,
     "metadata": {},
     "output_type": "execute_result"
    },
    {
     "data": {
      "image/png": "[encoded data removed]",
      "text/plain": [
       "<Figure size 720x504 with 1 Axes>"
      ]
     },
     "metadata": {
      "needs_background": "light"
     },
     "output_type": "display_data"
    }
   ],
   "source": [
    "plt.figure(figsize=(10,7))\n",
    "sns.heatmap(df.isnull(),cbar=False,yticklabels=False)\n",
    "plt.title(\"Heatmap for Outliers\")"
   ]
  },
  {
   "cell_type": "code",
   "execution_count": 6,
   "id": "2421697e",
   "metadata": {},
   "outputs": [
    {
     "data": {
      "text/plain": [
       "id                                  0.00\n",
       "name                                0.03\n",
       "host_id                             0.00\n",
       "host_name                           0.01\n",
       "neighbourhood_group               100.00\n",
       "neighbourhood                       0.00\n",
       "latitude                            0.00\n",
       "longitude                           0.00\n",
       "room_type                           0.00\n",
       "price                               0.00\n",
       "minimum_nights                      0.00\n",
       "number_of_reviews                   0.00\n",
       "last_review                        24.20\n",
       "reviews_per_month                  24.20\n",
       "calculated_host_listings_count      0.00\n",
       "availability_365                    0.00\n",
       "number_of_reviews_ltm               0.00\n",
       "license                           100.00\n",
       "dtype: float64"
      ]
     },
     "execution_count": 6,
     "metadata": {},
     "output_type": "execute_result"
    }
   ],
   "source": [
    "round((df.isnull().sum()/df.shape[0])*100,2)"
   ]
  },
  {
   "cell_type": "markdown",
   "id": "2f45c9aa",
   "metadata": {},
   "source": [
    "#### \"neighbourhood_group\" and \"license\" are completely fillled with null values. So, we can remove them.               "
   ]
  },
  {
   "cell_type": "code",
   "execution_count": 7,
   "id": "9b961c96",
   "metadata": {},
   "outputs": [
    {
     "data": {
      "text/html": [
       "<div>\n",
       "<style scoped>\n",
       "    .dataframe tbody tr th:only-of-type {\n",
       "        vertical-align: middle;\n",
       "    }\n",
       "\n",
       "    .dataframe tbody tr th {\n",
       "        vertical-align: top;\n",
       "    }\n",
       "\n",
       "    .dataframe thead th {\n",
       "        text-align: right;\n",
       "    }\n",
       "</style>\n",
       "<table border=\"1\" class=\"dataframe\">\n",
       "  <thead>\n",
       "    <tr style=\"text-align: right;\">\n",
       "      <th></th>\n",
       "      <th>id</th>\n",
       "      <th>host_id</th>\n",
       "      <th>neighbourhood_group</th>\n",
       "      <th>latitude</th>\n",
       "      <th>longitude</th>\n",
       "      <th>price</th>\n",
       "      <th>minimum_nights</th>\n",
       "      <th>number_of_reviews</th>\n",
       "      <th>reviews_per_month</th>\n",
       "      <th>calculated_host_listings_count</th>\n",
       "      <th>availability_365</th>\n",
       "      <th>number_of_reviews_ltm</th>\n",
       "      <th>license</th>\n",
       "    </tr>\n",
       "  </thead>\n",
       "  <tbody>\n",
       "    <tr>\n",
       "      <th>count</th>\n",
       "      <td>6.935100e+04</td>\n",
       "      <td>6.935100e+04</td>\n",
       "      <td>0.0</td>\n",
       "      <td>69351.000000</td>\n",
       "      <td>69351.000000</td>\n",
       "      <td>69351.000000</td>\n",
       "      <td>69351.000000</td>\n",
       "      <td>69351.000000</td>\n",
       "      <td>52571.000000</td>\n",
       "      <td>69351.000000</td>\n",
       "      <td>69351.000000</td>\n",
       "      <td>69351.000000</td>\n",
       "      <td>0.0</td>\n",
       "    </tr>\n",
       "    <tr>\n",
       "      <th>mean</th>\n",
       "      <td>1.373703e+17</td>\n",
       "      <td>1.242124e+08</td>\n",
       "      <td>NaN</td>\n",
       "      <td>51.509544</td>\n",
       "      <td>-0.128489</td>\n",
       "      <td>177.208822</td>\n",
       "      <td>5.997505</td>\n",
       "      <td>17.537051</td>\n",
       "      <td>0.882593</td>\n",
       "      <td>11.987498</td>\n",
       "      <td>108.520266</td>\n",
       "      <td>4.734438</td>\n",
       "      <td>NaN</td>\n",
       "    </tr>\n",
       "    <tr>\n",
       "      <th>std</th>\n",
       "      <td>2.651479e+17</td>\n",
       "      <td>1.377104e+08</td>\n",
       "      <td>NaN</td>\n",
       "      <td>0.049182</td>\n",
       "      <td>0.100957</td>\n",
       "      <td>412.823024</td>\n",
       "      <td>25.709514</td>\n",
       "      <td>40.410763</td>\n",
       "      <td>1.274510</td>\n",
       "      <td>37.148839</td>\n",
       "      <td>132.821088</td>\n",
       "      <td>12.032502</td>\n",
       "      <td>NaN</td>\n",
       "    </tr>\n",
       "    <tr>\n",
       "      <th>min</th>\n",
       "      <td>1.391300e+04</td>\n",
       "      <td>4.775000e+03</td>\n",
       "      <td>NaN</td>\n",
       "      <td>51.272480</td>\n",
       "      <td>-0.523600</td>\n",
       "      <td>0.000000</td>\n",
       "      <td>1.000000</td>\n",
       "      <td>0.000000</td>\n",
       "      <td>0.010000</td>\n",
       "      <td>1.000000</td>\n",
       "      <td>0.000000</td>\n",
       "      <td>0.000000</td>\n",
       "      <td>NaN</td>\n",
       "    </tr>\n",
       "    <tr>\n",
       "      <th>25%</th>\n",
       "      <td>1.810090e+07</td>\n",
       "      <td>1.870718e+07</td>\n",
       "      <td>NaN</td>\n",
       "      <td>51.483140</td>\n",
       "      <td>-0.189520</td>\n",
       "      <td>55.000000</td>\n",
       "      <td>1.000000</td>\n",
       "      <td>1.000000</td>\n",
       "      <td>0.120000</td>\n",
       "      <td>1.000000</td>\n",
       "      <td>0.000000</td>\n",
       "      <td>0.000000</td>\n",
       "      <td>NaN</td>\n",
       "    </tr>\n",
       "    <tr>\n",
       "      <th>50%</th>\n",
       "      <td>3.395467e+07</td>\n",
       "      <td>6.010350e+07</td>\n",
       "      <td>NaN</td>\n",
       "      <td>51.513600</td>\n",
       "      <td>-0.126200</td>\n",
       "      <td>100.000000</td>\n",
       "      <td>2.000000</td>\n",
       "      <td>4.000000</td>\n",
       "      <td>0.430000</td>\n",
       "      <td>1.000000</td>\n",
       "      <td>32.000000</td>\n",
       "      <td>0.000000</td>\n",
       "      <td>NaN</td>\n",
       "    </tr>\n",
       "    <tr>\n",
       "      <th>75%</th>\n",
       "      <td>5.265645e+07</td>\n",
       "      <td>1.960405e+08</td>\n",
       "      <td>NaN</td>\n",
       "      <td>51.539710</td>\n",
       "      <td>-0.068550</td>\n",
       "      <td>180.000000</td>\n",
       "      <td>4.000000</td>\n",
       "      <td>16.000000</td>\n",
       "      <td>1.080000</td>\n",
       "      <td>4.000000</td>\n",
       "      <td>228.000000</td>\n",
       "      <td>5.000000</td>\n",
       "      <td>NaN</td>\n",
       "    </tr>\n",
       "    <tr>\n",
       "      <th>max</th>\n",
       "      <td>7.123951e+17</td>\n",
       "      <td>4.788540e+08</td>\n",
       "      <td>NaN</td>\n",
       "      <td>51.708930</td>\n",
       "      <td>0.305150</td>\n",
       "      <td>25000.000000</td>\n",
       "      <td>1125.000000</td>\n",
       "      <td>1141.000000</td>\n",
       "      <td>51.330000</td>\n",
       "      <td>285.000000</td>\n",
       "      <td>365.000000</td>\n",
       "      <td>660.000000</td>\n",
       "      <td>NaN</td>\n",
       "    </tr>\n",
       "  </tbody>\n",
       "</table>\n",
       "</div>"
      ],
      "text/plain": [
       "                 id       host_id  neighbourhood_group      latitude  \\\n",
       "count  6.935100e+04  6.935100e+04                  0.0  69351.000000   \n",
       "mean   1.373703e+17  1.242124e+08                  NaN     51.509544   \n",
       "std    2.651479e+17  1.377104e+08                  NaN      0.049182   \n",
       "min    1.391300e+04  4.775000e+03                  NaN     51.272480   \n",
       "25%    1.810090e+07  1.870718e+07                  NaN     51.483140   \n",
       "50%    3.395467e+07  6.010350e+07                  NaN     51.513600   \n",
       "75%    5.265645e+07  1.960405e+08                  NaN     51.539710   \n",
       "max    7.123951e+17  4.788540e+08                  NaN     51.708930   \n",
       "\n",
       "          longitude         price  minimum_nights  number_of_reviews  \\\n",
       "count  69351.000000  69351.000000    69351.000000       69351.000000   \n",
       "mean      -0.128489    177.208822        5.997505          17.537051   \n",
       "std        0.100957    412.823024       25.709514          40.410763   \n",
       "min       -0.523600      0.000000        1.000000           0.000000   \n",
       "25%       -0.189520     55.000000        1.000000           1.000000   \n",
       "50%       -0.126200    100.000000        2.000000           4.000000   \n",
       "75%       -0.068550    180.000000        4.000000          16.000000   \n",
       "max        0.305150  25000.000000     1125.000000        1141.000000   \n",
       "\n",
       "       reviews_per_month  calculated_host_listings_count  availability_365  \\\n",
       "count       52571.000000                    69351.000000      69351.000000   \n",
       "mean            0.882593                       11.987498        108.520266   \n",
       "std             1.274510                       37.148839        132.821088   \n",
       "min             0.010000                        1.000000          0.000000   \n",
       "25%             0.120000                        1.000000          0.000000   \n",
       "50%             0.430000                        1.000000         32.000000   \n",
       "75%             1.080000                        4.000000        228.000000   \n",
       "max            51.330000                      285.000000        365.000000   \n",
       "\n",
       "       number_of_reviews_ltm  license  \n",
       "count           69351.000000      0.0  \n",
       "mean                4.734438      NaN  \n",
       "std                12.032502      NaN  \n",
       "min                 0.000000      NaN  \n",
       "25%                 0.000000      NaN  \n",
       "50%                 0.000000      NaN  \n",
       "75%                 5.000000      NaN  \n",
       "max               660.000000      NaN  "
      ]
     },
     "execution_count": 7,
     "metadata": {},
     "output_type": "execute_result"
    }
   ],
   "source": [
    "df.describe()"
   ]
  },
  {
   "cell_type": "code",
   "execution_count": 8,
   "id": "3fb9c4a8",
   "metadata": {},
   "outputs": [
    {
     "name": "stdout",
     "output_type": "stream",
     "text": [
      "<class 'pandas.core.frame.DataFrame'>\n",
      "RangeIndex: 69351 entries, 0 to 69350\n",
      "Data columns (total 18 columns):\n",
      " #   Column                          Non-Null Count  Dtype  \n",
      "---  ------                          --------------  -----  \n",
      " 0   id                              69351 non-null  int64  \n",
      " 1   name                            69330 non-null  object \n",
      " 2   host_id                         69351 non-null  int64  \n",
      " 3   host_name                       69346 non-null  object \n",
      " 4   neighbourhood_group             0 non-null      float64\n",
      " 5   neighbourhood                   69351 non-null  object \n",
      " 6   latitude                        69351 non-null  float64\n",
      " 7   longitude                       69351 non-null  float64\n",
      " 8   room_type                       69351 non-null  object \n",
      " 9   price                           69351 non-null  int64  \n",
      " 10  minimum_nights                  69351 non-null  int64  \n",
      " 11  number_of_reviews               69351 non-null  int64  \n",
      " 12  last_review                     52571 non-null  object \n",
      " 13  reviews_per_month               52571 non-null  float64\n",
      " 14  calculated_host_listings_count  69351 non-null  int64  \n",
      " 15  availability_365                69351 non-null  int64  \n",
      " 16  number_of_reviews_ltm           69351 non-null  int64  \n",
      " 17  license                         0 non-null      float64\n",
      "dtypes: float64(5), int64(8), object(5)\n",
      "memory usage: 9.5+ MB\n"
     ]
    }
   ],
   "source": [
    "df.info()"
   ]
  },
  {
   "cell_type": "code",
   "execution_count": 9,
   "id": "92e94e0f",
   "metadata": {},
   "outputs": [],
   "source": [
    "df[\"price_per_night\"] = round(df[\"price\"]/df[\"minimum_nights\"],2)"
   ]
  },
  {
   "cell_type": "code",
   "execution_count": 10,
   "id": "0d0fc38b",
   "metadata": {},
   "outputs": [
    {
     "data": {
      "text/plain": [
       "Text(0.5, 1.0, 'Top 10 highest traffic BY location')"
      ]
     },
     "execution_count": 10,
     "metadata": {},
     "output_type": "execute_result"
    },
    {
     "data": {
      "image/png": "[encoded data removed]",
      "text/plain": [
       "<Figure size 936x360 with 1 Axes>"
      ]
     },
     "metadata": {},
     "output_type": "display_data"
    }
   ],
   "source": [
    "values = df.neighbourhood.value_counts()[0:10].values\n",
    "labels = df.neighbourhood.value_counts()[0:10].index\n",
    "explode = [0.1,0,0,0,0,0,0,0,0,0]\n",
    "plt.figure(figsize=(13,5))\n",
    "plt.pie(values,labels=labels,shadow=True,autopct=\"%.2f%%\",explode=explode,startangle=90,radius=1)\n",
    "plt.axis(\"equal\")\n",
    "plt.legend()\n",
    "plt.title(\"Top 10 highest traffic BY location\")"
   ]
  },
  {
   "cell_type": "markdown",
   "id": "1d5281d4",
   "metadata": {},
   "source": [
    "#### From the above graph, we can understand that westminister has highest traffic, while tower hamlets,hackney to be the places with next highest traffic."
   ]
  },
  {
   "cell_type": "code",
   "execution_count": 11,
   "id": "fcbfe970",
   "metadata": {},
   "outputs": [
    {
     "data": {
      "text/plain": [
       "Text(0.5, 1.0, 'Top 10 lowest traffic BY location')"
      ]
     },
     "execution_count": 11,
     "metadata": {},
     "output_type": "execute_result"
    },
    {
     "data": {
      "image/png": "[encoded data removed]",
      "text/plain": [
       "<Figure size 936x360 with 1 Axes>"
      ]
     },
     "metadata": {},
     "output_type": "display_data"
    }
   ],
   "source": [
    "values = df.neighbourhood.value_counts().tail(10).values\n",
    "labels = df.neighbourhood.value_counts().tail(10).index\n",
    "explode = [0,0,0,0,0,0,0,0,0,0.4]\n",
    "plt.figure(figsize=(13,5))\n",
    "plt.pie(values,labels=labels,shadow=True,autopct=\"%.2f%%\",explode=explode,startangle=180,radius=1)\n",
    "plt.axis(\"equal\")\n",
    "plt.legend()\n",
    "plt.title(\"Top 10 lowest traffic BY location\")"
   ]
  },
  {
   "cell_type": "markdown",
   "id": "192d6da7",
   "metadata": {},
   "source": [
    "#### From the above graph, Sutton is place with the lowest traffic place."
   ]
  },
  {
   "cell_type": "code",
   "execution_count": 12,
   "id": "5e8c5d6b",
   "metadata": {},
   "outputs": [],
   "source": [
    "from datetime import datetime\n",
    "df[\"last_review\"] = pd.to_datetime(df[\"last_review\"])"
   ]
  },
  {
   "cell_type": "code",
   "execution_count": 13,
   "id": "762c0091",
   "metadata": {},
   "outputs": [],
   "source": [
    "df[\"last_review_year\"] = pd.DatetimeIndex(df[\"last_review\"]).year\n",
    "df[\"last_review_month\"] = pd.DatetimeIndex(df[\"last_review\"]).month\n",
    "df[\"last_review_day\"] = pd.DatetimeIndex(df[\"last_review\"]).day"
   ]
  },
  {
   "cell_type": "code",
   "execution_count": 14,
   "id": "dfd5a4da",
   "metadata": {},
   "outputs": [],
   "source": [
    "df_yearwise_reviews = pd.DataFrame(df[\"last_review_year\"].value_counts()).reset_index().rename(columns = {\"index\":\"Year\"}).sort_values(by=\"Year\",ascending=True).set_index(\"Year\")"
   ]
  },
  {
   "cell_type": "code",
   "execution_count": 15,
   "id": "8a1f7a2b",
   "metadata": {},
   "outputs": [
    {
     "name": "stderr",
     "output_type": "stream",
     "text": [
      "C:\\Users\\HP\\anaconda3\\lib\\site-packages\\seaborn\\_decorators.py:36: FutureWarning: Pass the following variables as keyword args: x, y. From version 0.12, the only valid positional argument will be `data`, and passing other arguments without an explicit keyword will result in an error or misinterpretation.\n",
      "  warnings.warn(\n"
     ]
    },
    {
     "data": {
      "text/plain": [
       "Text(0.5, 1.0, 'Review count by year')"
      ]
     },
     "execution_count": 15,
     "metadata": {},
     "output_type": "execute_result"
    },
    {
     "data": {
      "image/png": "[encoded data removed]",
      "text/plain": [
       "<Figure size 864x504 with 1 Axes>"
      ]
     },
     "metadata": {
      "needs_background": "light"
     },
     "output_type": "display_data"
    }
   ],
   "source": [
    "plt.figure(figsize=(12,7))\n",
    "sns.lineplot(df_yearwise_reviews.index,df_yearwise_reviews[\"last_review_year\"])\n",
    "plt.title(\"Review count by year\")"
   ]
  },
  {
   "cell_type": "markdown",
   "id": "c65a94f5",
   "metadata": {},
   "source": [
    "### There is huge hike in no of booking for stays from mid of 2020."
   ]
  },
  {
   "cell_type": "code",
   "execution_count": 16,
   "id": "c2b2e058",
   "metadata": {},
   "outputs": [],
   "source": [
    "from calendar import month_name\n",
    "month_lookup = list(month_name)"
   ]
  },
  {
   "cell_type": "code",
   "execution_count": 17,
   "id": "696c60ea",
   "metadata": {},
   "outputs": [
    {
     "data": {
      "text/plain": [
       "''"
      ]
     },
     "execution_count": 17,
     "metadata": {},
     "output_type": "execute_result"
    }
   ],
   "source": [
    "month_lookup.pop(0)"
   ]
  },
  {
   "cell_type": "code",
   "execution_count": 18,
   "id": "e74d2fb4",
   "metadata": {},
   "outputs": [],
   "source": [
    "months = pd.DataFrame(month_lookup,columns = [\"Month\"])"
   ]
  },
  {
   "cell_type": "code",
   "execution_count": 19,
   "id": "eced5c6a",
   "metadata": {},
   "outputs": [
    {
     "data": {
      "text/html": [
       "<div>\n",
       "<style scoped>\n",
       "    .dataframe tbody tr th:only-of-type {\n",
       "        vertical-align: middle;\n",
       "    }\n",
       "\n",
       "    .dataframe tbody tr th {\n",
       "        vertical-align: top;\n",
       "    }\n",
       "\n",
       "    .dataframe thead th {\n",
       "        text-align: right;\n",
       "    }\n",
       "</style>\n",
       "<table border=\"1\" class=\"dataframe\">\n",
       "  <thead>\n",
       "    <tr style=\"text-align: right;\">\n",
       "      <th></th>\n",
       "      <th>Month</th>\n",
       "    </tr>\n",
       "  </thead>\n",
       "  <tbody>\n",
       "    <tr>\n",
       "      <th>0</th>\n",
       "      <td>January</td>\n",
       "    </tr>\n",
       "    <tr>\n",
       "      <th>1</th>\n",
       "      <td>February</td>\n",
       "    </tr>\n",
       "    <tr>\n",
       "      <th>2</th>\n",
       "      <td>March</td>\n",
       "    </tr>\n",
       "    <tr>\n",
       "      <th>3</th>\n",
       "      <td>April</td>\n",
       "    </tr>\n",
       "    <tr>\n",
       "      <th>4</th>\n",
       "      <td>May</td>\n",
       "    </tr>\n",
       "    <tr>\n",
       "      <th>5</th>\n",
       "      <td>June</td>\n",
       "    </tr>\n",
       "    <tr>\n",
       "      <th>6</th>\n",
       "      <td>July</td>\n",
       "    </tr>\n",
       "    <tr>\n",
       "      <th>7</th>\n",
       "      <td>August</td>\n",
       "    </tr>\n",
       "    <tr>\n",
       "      <th>8</th>\n",
       "      <td>September</td>\n",
       "    </tr>\n",
       "    <tr>\n",
       "      <th>9</th>\n",
       "      <td>October</td>\n",
       "    </tr>\n",
       "    <tr>\n",
       "      <th>10</th>\n",
       "      <td>November</td>\n",
       "    </tr>\n",
       "    <tr>\n",
       "      <th>11</th>\n",
       "      <td>December</td>\n",
       "    </tr>\n",
       "  </tbody>\n",
       "</table>\n",
       "</div>"
      ],
      "text/plain": [
       "        Month\n",
       "0     January\n",
       "1    February\n",
       "2       March\n",
       "3       April\n",
       "4         May\n",
       "5        June\n",
       "6        July\n",
       "7      August\n",
       "8   September\n",
       "9     October\n",
       "10   November\n",
       "11   December"
      ]
     },
     "execution_count": 19,
     "metadata": {},
     "output_type": "execute_result"
    }
   ],
   "source": [
    "months"
   ]
  },
  {
   "cell_type": "code",
   "execution_count": 25,
   "id": "e2a4bdab",
   "metadata": {},
   "outputs": [],
   "source": [
    "df[\"Month_name\"] = pd.to_datetime(df[\"last_review_month\"],format=\"%m\").dt.month_name()"
   ]
  },
  {
   "cell_type": "code",
   "execution_count": 26,
   "id": "3d2ca7e0",
   "metadata": {},
   "outputs": [],
   "source": [
    "months_with_count = pd.DataFrame(df[\"Month_name\"].value_counts()).reset_index().rename(columns={\"index\":\"Month\"})"
   ]
  },
  {
   "cell_type": "code",
   "execution_count": 27,
   "id": "2cb7a78d",
   "metadata": {},
   "outputs": [
    {
     "data": {
      "text/html": [
       "<div>\n",
       "<style scoped>\n",
       "    .dataframe tbody tr th:only-of-type {\n",
       "        vertical-align: middle;\n",
       "    }\n",
       "\n",
       "    .dataframe tbody tr th {\n",
       "        vertical-align: top;\n",
       "    }\n",
       "\n",
       "    .dataframe thead th {\n",
       "        text-align: right;\n",
       "    }\n",
       "</style>\n",
       "<table border=\"1\" class=\"dataframe\">\n",
       "  <thead>\n",
       "    <tr style=\"text-align: right;\">\n",
       "      <th></th>\n",
       "      <th>Month</th>\n",
       "      <th>Month_name</th>\n",
       "    </tr>\n",
       "  </thead>\n",
       "  <tbody>\n",
       "    <tr>\n",
       "      <th>0</th>\n",
       "      <td>August</td>\n",
       "      <td>16864</td>\n",
       "    </tr>\n",
       "    <tr>\n",
       "      <th>1</th>\n",
       "      <td>July</td>\n",
       "      <td>7762</td>\n",
       "    </tr>\n",
       "    <tr>\n",
       "      <th>2</th>\n",
       "      <td>September</td>\n",
       "      <td>7731</td>\n",
       "    </tr>\n",
       "    <tr>\n",
       "      <th>3</th>\n",
       "      <td>June</td>\n",
       "      <td>3407</td>\n",
       "    </tr>\n",
       "    <tr>\n",
       "      <th>4</th>\n",
       "      <td>January</td>\n",
       "      <td>2793</td>\n",
       "    </tr>\n",
       "    <tr>\n",
       "      <th>5</th>\n",
       "      <td>March</td>\n",
       "      <td>2375</td>\n",
       "    </tr>\n",
       "    <tr>\n",
       "      <th>6</th>\n",
       "      <td>May</td>\n",
       "      <td>2199</td>\n",
       "    </tr>\n",
       "    <tr>\n",
       "      <th>7</th>\n",
       "      <td>December</td>\n",
       "      <td>2143</td>\n",
       "    </tr>\n",
       "    <tr>\n",
       "      <th>8</th>\n",
       "      <td>October</td>\n",
       "      <td>2041</td>\n",
       "    </tr>\n",
       "    <tr>\n",
       "      <th>9</th>\n",
       "      <td>April</td>\n",
       "      <td>1959</td>\n",
       "    </tr>\n",
       "    <tr>\n",
       "      <th>10</th>\n",
       "      <td>February</td>\n",
       "      <td>1712</td>\n",
       "    </tr>\n",
       "    <tr>\n",
       "      <th>11</th>\n",
       "      <td>November</td>\n",
       "      <td>1585</td>\n",
       "    </tr>\n",
       "  </tbody>\n",
       "</table>\n",
       "</div>"
      ],
      "text/plain": [
       "        Month  Month_name\n",
       "0      August       16864\n",
       "1        July        7762\n",
       "2   September        7731\n",
       "3        June        3407\n",
       "4     January        2793\n",
       "5       March        2375\n",
       "6         May        2199\n",
       "7    December        2143\n",
       "8     October        2041\n",
       "9       April        1959\n",
       "10   February        1712\n",
       "11   November        1585"
      ]
     },
     "execution_count": 27,
     "metadata": {},
     "output_type": "execute_result"
    }
   ],
   "source": [
    "months_with_count"
   ]
  },
  {
   "cell_type": "code",
   "execution_count": 28,
   "id": "d0154630",
   "metadata": {},
   "outputs": [],
   "source": [
    "final_reviewcount_month = pd.merge(months,months_with_count,how=\"left\",on=\"Month\")"
   ]
  },
  {
   "cell_type": "code",
   "execution_count": 35,
   "id": "36aa821e",
   "metadata": {},
   "outputs": [],
   "source": [
    "final_reviewcount_month.rename(columns={\"Month_count\":\"last_review_month\"},inplace=True)"
   ]
  },
  {
   "cell_type": "code",
   "execution_count": 36,
   "id": "ed17a494",
   "metadata": {},
   "outputs": [
    {
     "name": "stderr",
     "output_type": "stream",
     "text": [
      "C:\\Users\\HP\\anaconda3\\lib\\site-packages\\seaborn\\_decorators.py:36: FutureWarning: Pass the following variables as keyword args: x, y. From version 0.12, the only valid positional argument will be `data`, and passing other arguments without an explicit keyword will result in an error or misinterpretation.\n",
      "  warnings.warn(\n"
     ]
    },
    {
     "data": {
      "text/plain": [
       "Text(0.5, 1.0, 'Review count by month')"
      ]
     },
     "execution_count": 36,
     "metadata": {},
     "output_type": "execute_result"
    },
    {
     "data": {
      "image/png": "[encoded data removed]",
      "text/plain": [
       "<Figure size 864x504 with 1 Axes>"
      ]
     },
     "metadata": {
      "needs_background": "light"
     },
     "output_type": "display_data"
    }
   ],
   "source": [
    "plt.figure(figsize=(12,7))\n",
    "sns.barplot(final_reviewcount_month[\"Month\"],final_reviewcount_month[\"last_review_month\"])\n",
    "plt.title(\"Review count by month\")"
   ]
  },
  {
   "cell_type": "code",
   "execution_count": 37,
   "id": "d767a000",
   "metadata": {},
   "outputs": [],
   "source": [
    "bookingBY_month_year = pd.DataFrame(df.groupby([\"Month_name\",\"last_review_year\"])[\"last_review_month\"].size()).reset_index()"
   ]
  },
  {
   "cell_type": "code",
   "execution_count": 38,
   "id": "657784e7",
   "metadata": {},
   "outputs": [
    {
     "data": {
      "text/html": [
       "<div>\n",
       "<style scoped>\n",
       "    .dataframe tbody tr th:only-of-type {\n",
       "        vertical-align: middle;\n",
       "    }\n",
       "\n",
       "    .dataframe tbody tr th {\n",
       "        vertical-align: top;\n",
       "    }\n",
       "\n",
       "    .dataframe thead th {\n",
       "        text-align: right;\n",
       "    }\n",
       "</style>\n",
       "<table border=\"1\" class=\"dataframe\">\n",
       "  <thead>\n",
       "    <tr style=\"text-align: right;\">\n",
       "      <th></th>\n",
       "      <th>Month_name</th>\n",
       "      <th>last_review_year</th>\n",
       "      <th>last_review_month</th>\n",
       "    </tr>\n",
       "  </thead>\n",
       "  <tbody>\n",
       "    <tr>\n",
       "      <th>0</th>\n",
       "      <td>April</td>\n",
       "      <td>2014.0</td>\n",
       "      <td>2</td>\n",
       "    </tr>\n",
       "    <tr>\n",
       "      <th>1</th>\n",
       "      <td>April</td>\n",
       "      <td>2015.0</td>\n",
       "      <td>21</td>\n",
       "    </tr>\n",
       "    <tr>\n",
       "      <th>2</th>\n",
       "      <td>April</td>\n",
       "      <td>2016.0</td>\n",
       "      <td>122</td>\n",
       "    </tr>\n",
       "    <tr>\n",
       "      <th>3</th>\n",
       "      <td>April</td>\n",
       "      <td>2017.0</td>\n",
       "      <td>191</td>\n",
       "    </tr>\n",
       "    <tr>\n",
       "      <th>4</th>\n",
       "      <td>April</td>\n",
       "      <td>2018.0</td>\n",
       "      <td>227</td>\n",
       "    </tr>\n",
       "    <tr>\n",
       "      <th>...</th>\n",
       "      <td>...</td>\n",
       "      <td>...</td>\n",
       "      <td>...</td>\n",
       "    </tr>\n",
       "    <tr>\n",
       "      <th>116</th>\n",
       "      <td>September</td>\n",
       "      <td>2018.0</td>\n",
       "      <td>370</td>\n",
       "    </tr>\n",
       "    <tr>\n",
       "      <th>117</th>\n",
       "      <td>September</td>\n",
       "      <td>2019.0</td>\n",
       "      <td>571</td>\n",
       "    </tr>\n",
       "    <tr>\n",
       "      <th>118</th>\n",
       "      <td>September</td>\n",
       "      <td>2020.0</td>\n",
       "      <td>273</td>\n",
       "    </tr>\n",
       "    <tr>\n",
       "      <th>119</th>\n",
       "      <td>September</td>\n",
       "      <td>2021.0</td>\n",
       "      <td>421</td>\n",
       "    </tr>\n",
       "    <tr>\n",
       "      <th>120</th>\n",
       "      <td>September</td>\n",
       "      <td>2022.0</td>\n",
       "      <td>5413</td>\n",
       "    </tr>\n",
       "  </tbody>\n",
       "</table>\n",
       "<p>121 rows × 3 columns</p>\n",
       "</div>"
      ],
      "text/plain": [
       "    Month_name  last_review_year  last_review_month\n",
       "0        April            2014.0                  2\n",
       "1        April            2015.0                 21\n",
       "2        April            2016.0                122\n",
       "3        April            2017.0                191\n",
       "4        April            2018.0                227\n",
       "..         ...               ...                ...\n",
       "116  September            2018.0                370\n",
       "117  September            2019.0                571\n",
       "118  September            2020.0                273\n",
       "119  September            2021.0                421\n",
       "120  September            2022.0               5413\n",
       "\n",
       "[121 rows x 3 columns]"
      ]
     },
     "execution_count": 38,
     "metadata": {},
     "output_type": "execute_result"
    }
   ],
   "source": [
    "bookingBY_month_year"
   ]
  },
  {
   "cell_type": "code",
   "execution_count": 39,
   "id": "41f444eb",
   "metadata": {},
   "outputs": [],
   "source": [
    "df.drop([\"id\",\"host_id\",\"neighbourhood_group\",\"license\",\"last_review\"],axis=1,inplace=True)"
   ]
  },
  {
   "cell_type": "code",
   "execution_count": 40,
   "id": "99802b41",
   "metadata": {},
   "outputs": [
    {
     "data": {
      "text/plain": [
       "name                                 21\n",
       "host_name                             5\n",
       "neighbourhood                         0\n",
       "latitude                              0\n",
       "longitude                             0\n",
       "room_type                             0\n",
       "price                                 0\n",
       "minimum_nights                        0\n",
       "number_of_reviews                     0\n",
       "reviews_per_month                 16780\n",
       "calculated_host_listings_count        0\n",
       "availability_365                      0\n",
       "number_of_reviews_ltm                 0\n",
       "price_per_night                       0\n",
       "last_review_year                  16780\n",
       "last_review_month                 16780\n",
       "last_review_day                   16780\n",
       "Month_name                        16780\n",
       "dtype: int64"
      ]
     },
     "execution_count": 40,
     "metadata": {},
     "output_type": "execute_result"
    }
   ],
   "source": [
    "df.isnull().sum()"
   ]
  },
  {
   "cell_type": "code",
   "execution_count": 41,
   "id": "fac382b4",
   "metadata": {},
   "outputs": [
    {
     "data": {
      "text/plain": [
       "neighbourhood\n",
       "Westminster               3.0\n",
       "City of London            3.0\n",
       "Hammersmith and Fulham    3.0\n",
       "Hackney                   3.0\n",
       "Kensington and Chelsea    3.0\n",
       "Sutton                    2.0\n",
       "Tower Hamlets             2.0\n",
       "Southwark                 2.0\n",
       "Richmond upon Thames      2.0\n",
       "Islington                 2.0\n",
       "Newham                    2.0\n",
       "Waltham Forest            2.0\n",
       "Wandsworth                2.0\n",
       "Merton                    2.0\n",
       "Lewisham                  2.0\n",
       "Lambeth                   2.0\n",
       "Kingston upon Thames      2.0\n",
       "Redbridge                 2.0\n",
       "Barking and Dagenham      2.0\n",
       "Hounslow                  2.0\n",
       "Barnet                    2.0\n",
       "Havering                  2.0\n",
       "Harrow                    2.0\n",
       "Haringey                  2.0\n",
       "Greenwich                 2.0\n",
       "Enfield                   2.0\n",
       "Ealing                    2.0\n",
       "Croydon                   2.0\n",
       "Camden                    2.0\n",
       "Bromley                   2.0\n",
       "Brent                     2.0\n",
       "Bexley                    2.0\n",
       "Hillingdon                1.0\n",
       "Name: minimum_nights, dtype: float64"
      ]
     },
     "execution_count": 41,
     "metadata": {},
     "output_type": "execute_result"
    }
   ],
   "source": [
    "df.groupby(\"neighbourhood\")[\"minimum_nights\"].median().sort_values(ascending=False)"
   ]
  },
  {
   "cell_type": "markdown",
   "id": "ccedce69",
   "metadata": {},
   "source": [
    "### Westminster,City of London,Hammersmith and Fulham,Hackney,Kensington and Chelsea are the cities where the people staying with 3 nights on an avg."
   ]
  },
  {
   "cell_type": "code",
   "execution_count": 42,
   "id": "4af0aeda",
   "metadata": {},
   "outputs": [
    {
     "data": {
      "text/plain": [
       "Text(0.5, 0, 'price per night')"
      ]
     },
     "execution_count": 42,
     "metadata": {},
     "output_type": "execute_result"
    },
    {
     "data": {
      "image/png": "[encoded data removed]",
      "text/plain": [
       "<Figure size 720x504 with 1 Axes>"
      ]
     },
     "metadata": {
      "needs_background": "light"
     },
     "output_type": "display_data"
    }
   ],
   "source": [
    "plt.figure(figsize=(10,7))\n",
    "df.groupby(\"neighbourhood\")[\"price_per_night\"].median().sort_values(ascending=False)[0:10].plot(kind=\"barh\")\n",
    "plt.title(\"Top 10 expensive neighbourhood\")\n",
    "plt.xlabel(\"price per night\")"
   ]
  },
  {
   "cell_type": "code",
   "execution_count": 43,
   "id": "44baf14e",
   "metadata": {},
   "outputs": [
    {
     "data": {
      "text/plain": [
       "Text(0.5, 0, 'price per night')"
      ]
     },
     "execution_count": 43,
     "metadata": {},
     "output_type": "execute_result"
    },
    {
     "data": {
      "image/png": "[encoded data removed]",
      "text/plain": [
       "<Figure size 720x504 with 1 Axes>"
      ]
     },
     "metadata": {
      "needs_background": "light"
     },
     "output_type": "display_data"
    }
   ],
   "source": [
    "plt.figure(figsize=(10,7))\n",
    "df.groupby(\"neighbourhood\")[\"price_per_night\"].median().sort_values(ascending=True)[0:10].plot(kind=\"barh\")\n",
    "plt.title(\"Top 10 cheapest neighbourhood\")\n",
    "plt.xlabel(\"price per night\")"
   ]
  },
  {
   "cell_type": "markdown",
   "id": "88f62c13",
   "metadata": {},
   "source": [
    "#### Top 3 cheapest neighbourhoods:\n",
    "#### 1) Wlatham Forest\n",
    "#### 2) Sutton\n",
    "#### 3) Lewisham"
   ]
  },
  {
   "cell_type": "markdown",
   "id": "2f945f24",
   "metadata": {},
   "source": [
    "### Lets analyse why prices are high in top 3 expensive neighbours \n",
    "#### 1) Westminster\n",
    "#### 2) Kensington and Chelsea\n",
    "#### 3) City of London"
   ]
  },
  {
   "cell_type": "code",
   "execution_count": 44,
   "id": "2b399630",
   "metadata": {},
   "outputs": [],
   "source": [
    "df_cityoflondon = df[df[\"neighbourhood\"]==\"City of London\"]\n",
    "df_Kensington = df[df[\"neighbourhood\"]==\"Kensington\"]\n",
    "df_Westminster = df[df[\"neighbourhood\"]==\"Westminster\"]"
   ]
  },
  {
   "cell_type": "code",
   "execution_count": 45,
   "id": "65c05f09",
   "metadata": {},
   "outputs": [
    {
     "data": {
      "text/plain": [
       "Text(0.5, 1.0, 'Distribution of price/night in Westminster')"
      ]
     },
     "execution_count": 45,
     "metadata": {},
     "output_type": "execute_result"
    },
    {
     "data": {
      "image/png": "[encoded data removed]",
      "text/plain": [
       "<Figure size 720x360 with 1 Axes>"
      ]
     },
     "metadata": {
      "needs_background": "light"
     },
     "output_type": "display_data"
    }
   ],
   "source": [
    "plt.figure(figsize=(10,5))\n",
    "sns.histplot(df_Westminster[\"price\"],kde=True)\n",
    "plt.title(\"Distribution of price/night in Westminster\")"
   ]
  },
  {
   "cell_type": "markdown",
   "id": "77580588",
   "metadata": {},
   "source": [
    "#### From the above distribution, we can understand majority of the hosts charging standard price, but fewer hosts charging too much.\n",
    "\n",
    "### Lets find out who are they?\n"
   ]
  },
  {
   "cell_type": "code",
   "execution_count": 46,
   "id": "17d091c5",
   "metadata": {},
   "outputs": [
    {
     "name": "stdout",
     "output_type": "stream",
     "text": [
      "25% tile of the data :  33.135000000000005\n",
      "50% tile of the data :  71.43\n",
      "75% tile of the data :  148.0\n",
      "80% tile of the data :  177.0\n",
      "90% tile of the data :  288.9000000000001\n"
     ]
    }
   ],
   "source": [
    "print(\"25% tile of the data : \",df_Westminster[\"price_per_night\"].quantile(0.25))\n",
    "print(\"50% tile of the data : \",df_Westminster[\"price_per_night\"].quantile(0.50))\n",
    "print(\"75% tile of the data : \",df_Westminster[\"price_per_night\"].quantile(0.75))\n",
    "print(\"80% tile of the data : \",df_Westminster[\"price_per_night\"].quantile(0.80)) \n",
    "print(\"90% tile of the data : \",df_Westminster[\"price_per_night\"].quantile(0.90))      "
   ]
  },
  {
   "cell_type": "markdown",
   "id": "9562fc43",
   "metadata": {},
   "source": [
    "### 50% of the prices are under or equals to 71.00\n",
    "### 75% of the prices are under or equals to 178.00\n",
    "### 90% of the prices are under or equals to 288.00"
   ]
  },
  {
   "cell_type": "markdown",
   "id": "ab0d1fac",
   "metadata": {},
   "source": [
    "### So, only 10% of the prices falling above 288."
   ]
  },
  {
   "cell_type": "code",
   "execution_count": 91,
   "id": "af181b44",
   "metadata": {},
   "outputs": [
    {
     "data": {
      "text/plain": [
       "Text(0.5, 1.0, 'Top 10 busiest host avg price/night')"
      ]
     },
     "execution_count": 91,
     "metadata": {},
     "output_type": "execute_result"
    },
    {
     "data": {
      "image/png": "[encoded data removed]",
      "text/plain": [
       "<Figure size 1008x720 with 3 Axes>"
      ]
     },
     "metadata": {
      "needs_background": "light"
     },
     "output_type": "display_data"
    }
   ],
   "source": [
    "#created a variable with top10_bussiest hosts data in westminster\n",
    "top10_busiesthostsnames_west = df_Westminster[df_Westminster[\"host_name\"].isin(df_Westminster[\"host_name\"].value_counts().head(10).index.to_list())]\n",
    "\n",
    "plt.figure(figsize=(14,10))\n",
    "plt.subplot(2,2,1)\n",
    "top10_busiest_hosts_westminister = df_Westminster[\"host_name\"].value_counts().head(10)\n",
    "df_Westminster[\"host_name\"].value_counts().head(10).plot(kind=\"barh\")\n",
    "plt.title(\"Top 10 busiest host in westminster\")\n",
    "plt.xlabel(\"Number of times listed\")\n",
    "\n",
    "plt.subplot(2,2,2)\n",
    "sns.histplot(top10_busiesthostsnames_west[\"price_per_night\"],kde=True)\n",
    "plt.title(\"Distribution of top10 busiest hosts of westminster price/night\")\n",
    "\n",
    "\n",
    "plt.subplot(2,2,3)\n",
    "top10_busiesthostsnames_west.groupby(\"host_name\")[\"price_per_night\"].median().sort_values(ascending=True).plot(kind=\"bar\")\n",
    "ax.annotate(label, (x_value, y_value), xytext=(0, space), textcoords=\"offset points\", ha='center', va='bottom'\n",
    "plt.title(\"Top 10 busiest host avg price/night\")"
   ]
  },
  {
   "cell_type": "code",
   "execution_count": 100,
   "id": "e4a0759f",
   "metadata": {},
   "outputs": [],
   "source": [
    "price_by_histyear_westminster = pd.DataFrame(top10_busiesthostsnames_west.groupby([\"host_name\",\"last_review_year\"])[\"price_per_night\"].median()).reset_index().sort_values(by=[\"host_name\",\"price_per_night\"],ascending=True)\n"
   ]
  },
  {
   "cell_type": "code",
   "execution_count": 155,
   "id": "9b10a22b",
   "metadata": {},
   "outputs": [
    {
     "name": "stderr",
     "output_type": "stream",
     "text": [
      "C:\\Users\\HP\\anaconda3\\lib\\site-packages\\seaborn\\_decorators.py:36: FutureWarning: Pass the following variables as keyword args: x, y. From version 0.12, the only valid positional argument will be `data`, and passing other arguments without an explicit keyword will result in an error or misinterpretation.\n",
      "  warnings.warn(\n",
      "C:\\Users\\HP\\anaconda3\\lib\\site-packages\\seaborn\\_decorators.py:36: FutureWarning: Pass the following variables as keyword args: x, y. From version 0.12, the only valid positional argument will be `data`, and passing other arguments without an explicit keyword will result in an error or misinterpretation.\n",
      "  warnings.warn(\n"
     ]
    },
    {
     "data": {
      "text/plain": [
       "<AxesSubplot:xlabel='host_name', ylabel='host_count'>"
      ]
     },
     "execution_count": 155,
     "metadata": {},
     "output_type": "execute_result"
    },
    {
     "data": {
      "image/png": "[encoded data removed]",
      "text/plain": [
       "<Figure size 1080x1080 with 2 Axes>"
      ]
     },
     "metadata": {},
     "output_type": "display_data"
    }
   ],
   "source": [
    "plt.figure(figsize=(15,15))\n",
    "plt.subplot(2,1,1)\n",
    "sns.barplot(price_by_histyear_westminster[\"host_name\"],price_by_histyear_westminster[\"price_per_night\"],hue=price_by_histyear_westminster[\"last_review_year\"])\n",
    "\n",
    "plt.subplot(2,1,2)\n",
    "sns.barplot(westmin_top10_host_countBYyear[\"host_name\"],westmin_top10_host_countBYyear[\"host_count\"],hue=westmin_top10_host_countBYyear[\"last_review_year\"])"
   ]
  },
  {
   "cell_type": "markdown",
   "id": "7d8d8262",
   "metadata": {},
   "source": [
    "#### Some busiest hosts in westminster have increased prices in 2021 and decreased prices in 2022 (eg: Alex,Maria,Sam,Sonder)\n",
    "#### Alessandro has put up the price to high in 2022 compared to 2021.\n",
    "#### Ali's price is very reasonable and no significant change in price.\n",
    "#### Beau has listed only in 2022 in westminster, could be new host."
   ]
  },
  {
   "cell_type": "code",
   "execution_count": 147,
   "id": "43461143",
   "metadata": {},
   "outputs": [],
   "source": [
    "westmin_top10_host_countBYyear = pd.DataFrame(df_Westminster[df_Westminster[\"host_name\"].isin(top10_busiest_hosts_westminister.index.to_list())].groupby([\"host_name\",\"last_review_year\"])[\"host_name\"].count()).rename(columns={\"host_name\":\"host_count\"}).reset_index()"
   ]
  },
  {
   "cell_type": "code",
   "execution_count": 151,
   "id": "7ff4f882",
   "metadata": {},
   "outputs": [
    {
     "name": "stderr",
     "output_type": "stream",
     "text": [
      "C:\\Users\\HP\\anaconda3\\lib\\site-packages\\seaborn\\_decorators.py:36: FutureWarning: Pass the following variables as keyword args: x, y. From version 0.12, the only valid positional argument will be `data`, and passing other arguments without an explicit keyword will result in an error or misinterpretation.\n",
      "  warnings.warn(\n"
     ]
    },
    {
     "data": {
      "text/plain": [
       "<AxesSubplot:xlabel='host_name', ylabel='host_count'>"
      ]
     },
     "execution_count": 151,
     "metadata": {},
     "output_type": "execute_result"
    },
    {
     "data": {
      "image/png": "[encoded data removed]",
      "text/plain": [
       "<Figure size 1080x504 with 1 Axes>"
      ]
     },
     "metadata": {},
     "output_type": "display_data"
    }
   ],
   "source": [
    "plt.figure(figsize=(15,7))\n",
    "sns.barplot(westmin_top10_host_countBYyear[\"host_name\"],westmin_top10_host_countBYyear[\"host_count\"],hue=westmin_top10_host_countBYyear[\"last_review_year\"])"
   ]
  },
  {
   "cell_type": "code",
   "execution_count": 50,
   "id": "9cda6840",
   "metadata": {},
   "outputs": [
    {
     "name": "stdout",
     "output_type": "stream",
     "text": [
      "min price/night :  0.67\n",
      "25% tile of the data :  26.7275\n",
      "50% tile of the data :  89.0\n",
      "75% tile of the data :  193.5625\n",
      "80% tile of the data :  219.7340000000001\n",
      "90% tile of the data :  320.45\n",
      "max price/night :  1839.5\n"
     ]
    }
   ],
   "source": [
    "print(\"min price/night : \",top10_busiesthostsnames_west[\"price_per_night\"].min()) \n",
    "print(\"25% tile of the data : \",top10_busiesthostsnames_west[\"price_per_night\"].quantile(0.25))\n",
    "print(\"50% tile of the data : \",top10_busiesthostsnames_west[\"price_per_night\"].quantile(0.50))\n",
    "print(\"75% tile of the data : \",top10_busiesthostsnames_west[\"price_per_night\"].quantile(0.75))\n",
    "print(\"80% tile of the data : \",top10_busiesthostsnames_west[\"price_per_night\"].quantile(0.80)) \n",
    "print(\"90% tile of the data : \",top10_busiesthostsnames_west[\"price_per_night\"].quantile(0.90))    \n",
    "print(\"max price/night : \",top10_busiesthostsnames_west[\"price_per_night\"].max()) "
   ]
  },
  {
   "cell_type": "code",
   "execution_count": 61,
   "id": "138c5f71",
   "metadata": {},
   "outputs": [
    {
     "data": {
      "text/html": [
       "<div>\n",
       "<style scoped>\n",
       "    .dataframe tbody tr th:only-of-type {\n",
       "        vertical-align: middle;\n",
       "    }\n",
       "\n",
       "    .dataframe tbody tr th {\n",
       "        vertical-align: top;\n",
       "    }\n",
       "\n",
       "    .dataframe thead th {\n",
       "        text-align: right;\n",
       "    }\n",
       "</style>\n",
       "<table border=\"1\" class=\"dataframe\">\n",
       "  <thead>\n",
       "    <tr style=\"text-align: right;\">\n",
       "      <th></th>\n",
       "      <th>name</th>\n",
       "      <th>host_name</th>\n",
       "      <th>neighbourhood</th>\n",
       "      <th>latitude</th>\n",
       "      <th>longitude</th>\n",
       "      <th>room_type</th>\n",
       "      <th>price</th>\n",
       "      <th>minimum_nights</th>\n",
       "      <th>number_of_reviews</th>\n",
       "      <th>reviews_per_month</th>\n",
       "      <th>calculated_host_listings_count</th>\n",
       "      <th>availability_365</th>\n",
       "      <th>number_of_reviews_ltm</th>\n",
       "      <th>price_per_night</th>\n",
       "      <th>last_review_year</th>\n",
       "      <th>last_review_month</th>\n",
       "      <th>last_review_day</th>\n",
       "      <th>Month_name</th>\n",
       "    </tr>\n",
       "  </thead>\n",
       "  <tbody>\n",
       "    <tr>\n",
       "      <th>600</th>\n",
       "      <td>Massive Superb flat in Notting Hill</td>\n",
       "      <td>Alex</td>\n",
       "      <td>Westminster</td>\n",
       "      <td>51.51612</td>\n",
       "      <td>-0.19557</td>\n",
       "      <td>Entire home/apt</td>\n",
       "      <td>300</td>\n",
       "      <td>3</td>\n",
       "      <td>63</td>\n",
       "      <td>0.63</td>\n",
       "      <td>2</td>\n",
       "      <td>14</td>\n",
       "      <td>8</td>\n",
       "      <td>100.0</td>\n",
       "      <td>2022.0</td>\n",
       "      <td>8.0</td>\n",
       "      <td>18.0</td>\n",
       "      <td>August</td>\n",
       "    </tr>\n",
       "    <tr>\n",
       "      <th>904</th>\n",
       "      <td>Double Studio in Victoria 1A</td>\n",
       "      <td>Alessandro</td>\n",
       "      <td>Westminster</td>\n",
       "      <td>51.48982</td>\n",
       "      <td>-0.14120</td>\n",
       "      <td>Private room</td>\n",
       "      <td>73</td>\n",
       "      <td>1</td>\n",
       "      <td>158</td>\n",
       "      <td>1.32</td>\n",
       "      <td>44</td>\n",
       "      <td>0</td>\n",
       "      <td>0</td>\n",
       "      <td>73.0</td>\n",
       "      <td>2017.0</td>\n",
       "      <td>9.0</td>\n",
       "      <td>17.0</td>\n",
       "      <td>September</td>\n",
       "    </tr>\n",
       "    <tr>\n",
       "      <th>940</th>\n",
       "      <td>Stunning Studio in Victoria 3A</td>\n",
       "      <td>Alessandro</td>\n",
       "      <td>Westminster</td>\n",
       "      <td>51.49016</td>\n",
       "      <td>-0.13909</td>\n",
       "      <td>Entire home/apt</td>\n",
       "      <td>106</td>\n",
       "      <td>1</td>\n",
       "      <td>223</td>\n",
       "      <td>1.84</td>\n",
       "      <td>44</td>\n",
       "      <td>0</td>\n",
       "      <td>0</td>\n",
       "      <td>106.0</td>\n",
       "      <td>2020.0</td>\n",
       "      <td>3.0</td>\n",
       "      <td>11.0</td>\n",
       "      <td>March</td>\n",
       "    </tr>\n",
       "    <tr>\n",
       "      <th>948</th>\n",
       "      <td>Double studio in Victoria 4A</td>\n",
       "      <td>Alessandro</td>\n",
       "      <td>Westminster</td>\n",
       "      <td>51.49099</td>\n",
       "      <td>-0.14094</td>\n",
       "      <td>Private room</td>\n",
       "      <td>73</td>\n",
       "      <td>1</td>\n",
       "      <td>249</td>\n",
       "      <td>2.06</td>\n",
       "      <td>44</td>\n",
       "      <td>0</td>\n",
       "      <td>0</td>\n",
       "      <td>73.0</td>\n",
       "      <td>2020.0</td>\n",
       "      <td>3.0</td>\n",
       "      <td>10.0</td>\n",
       "      <td>March</td>\n",
       "    </tr>\n",
       "    <tr>\n",
       "      <th>975</th>\n",
       "      <td>Brand new studio in Victoria 8A</td>\n",
       "      <td>Alessandro</td>\n",
       "      <td>Westminster</td>\n",
       "      <td>51.49113</td>\n",
       "      <td>-0.14117</td>\n",
       "      <td>Entire home/apt</td>\n",
       "      <td>76</td>\n",
       "      <td>1</td>\n",
       "      <td>332</td>\n",
       "      <td>2.74</td>\n",
       "      <td>44</td>\n",
       "      <td>0</td>\n",
       "      <td>0</td>\n",
       "      <td>76.0</td>\n",
       "      <td>2020.0</td>\n",
       "      <td>3.0</td>\n",
       "      <td>19.0</td>\n",
       "      <td>March</td>\n",
       "    </tr>\n",
       "  </tbody>\n",
       "</table>\n",
       "</div>"
      ],
      "text/plain": [
       "                                    name   host_name neighbourhood  latitude  \\\n",
       "600  Massive Superb flat in Notting Hill        Alex   Westminster  51.51612   \n",
       "904         Double Studio in Victoria 1A  Alessandro   Westminster  51.48982   \n",
       "940       Stunning Studio in Victoria 3A  Alessandro   Westminster  51.49016   \n",
       "948         Double studio in Victoria 4A  Alessandro   Westminster  51.49099   \n",
       "975      Brand new studio in Victoria 8A  Alessandro   Westminster  51.49113   \n",
       "\n",
       "     longitude        room_type  price  minimum_nights  number_of_reviews  \\\n",
       "600   -0.19557  Entire home/apt    300               3                 63   \n",
       "904   -0.14120     Private room     73               1                158   \n",
       "940   -0.13909  Entire home/apt    106               1                223   \n",
       "948   -0.14094     Private room     73               1                249   \n",
       "975   -0.14117  Entire home/apt     76               1                332   \n",
       "\n",
       "     reviews_per_month  calculated_host_listings_count  availability_365  \\\n",
       "600               0.63                               2                14   \n",
       "904               1.32                              44                 0   \n",
       "940               1.84                              44                 0   \n",
       "948               2.06                              44                 0   \n",
       "975               2.74                              44                 0   \n",
       "\n",
       "     number_of_reviews_ltm  price_per_night  last_review_year  \\\n",
       "600                      8            100.0            2022.0   \n",
       "904                      0             73.0            2017.0   \n",
       "940                      0            106.0            2020.0   \n",
       "948                      0             73.0            2020.0   \n",
       "975                      0             76.0            2020.0   \n",
       "\n",
       "     last_review_month  last_review_day Month_name  \n",
       "600                8.0             18.0     August  \n",
       "904                9.0             17.0  September  \n",
       "940                3.0             11.0      March  \n",
       "948                3.0             10.0      March  \n",
       "975                3.0             19.0      March  "
      ]
     },
     "execution_count": 61,
     "metadata": {},
     "output_type": "execute_result"
    }
   ],
   "source": [
    "top10_busiesthostsnames_west.head()"
   ]
  },
  {
   "cell_type": "code",
   "execution_count": 51,
   "id": "2946ade5",
   "metadata": {},
   "outputs": [
    {
     "data": {
      "text/plain": [
       "<AxesSubplot:ylabel='neighbourhood'>"
      ]
     },
     "execution_count": 51,
     "metadata": {},
     "output_type": "execute_result"
    },
    {
     "data": {
      "image/png": "[encoded data removed]",
      "text/plain": [
       "<Figure size 720x360 with 1 Axes>"
      ]
     },
     "metadata": {
      "needs_background": "light"
     },
     "output_type": "display_data"
    }
   ],
   "source": [
    "#df_Westminster[df_Westminster[\"host_name\"]==\"Stayo\"].shape\n",
    "plt.figure(figsize=(10,5))\n",
    "df[df[\"host_name\"]==\"Stayo\"][[\"neighbourhood\",\"price_per_night\"]].groupby(\"neighbourhood\")[\"price_per_night\"].median().sort_values(ascending=True).plot(kind=\"barh\")"
   ]
  },
  {
   "cell_type": "code",
   "execution_count": 52,
   "id": "1edfbb4b",
   "metadata": {},
   "outputs": [
    {
     "data": {
      "text/html": [
       "<div>\n",
       "<style scoped>\n",
       "    .dataframe tbody tr th:only-of-type {\n",
       "        vertical-align: middle;\n",
       "    }\n",
       "\n",
       "    .dataframe tbody tr th {\n",
       "        vertical-align: top;\n",
       "    }\n",
       "\n",
       "    .dataframe thead th {\n",
       "        text-align: right;\n",
       "    }\n",
       "</style>\n",
       "<table border=\"1\" class=\"dataframe\">\n",
       "  <thead>\n",
       "    <tr style=\"text-align: right;\">\n",
       "      <th></th>\n",
       "      <th>name</th>\n",
       "      <th>host_name</th>\n",
       "      <th>neighbourhood</th>\n",
       "      <th>latitude</th>\n",
       "      <th>longitude</th>\n",
       "      <th>room_type</th>\n",
       "      <th>price</th>\n",
       "      <th>minimum_nights</th>\n",
       "      <th>number_of_reviews</th>\n",
       "      <th>reviews_per_month</th>\n",
       "      <th>calculated_host_listings_count</th>\n",
       "      <th>availability_365</th>\n",
       "      <th>number_of_reviews_ltm</th>\n",
       "      <th>price_per_night</th>\n",
       "      <th>last_review_year</th>\n",
       "      <th>last_review_month</th>\n",
       "      <th>last_review_day</th>\n",
       "      <th>Month_name</th>\n",
       "    </tr>\n",
       "  </thead>\n",
       "  <tbody>\n",
       "    <tr>\n",
       "      <th>324</th>\n",
       "      <td>Stunning Home in Central London</td>\n",
       "      <td>Arvind</td>\n",
       "      <td>Westminster</td>\n",
       "      <td>51.53108</td>\n",
       "      <td>-0.18058</td>\n",
       "      <td>Entire home/apt</td>\n",
       "      <td>500</td>\n",
       "      <td>1</td>\n",
       "      <td>14</td>\n",
       "      <td>0.13</td>\n",
       "      <td>1</td>\n",
       "      <td>365</td>\n",
       "      <td>1</td>\n",
       "      <td>500.0</td>\n",
       "      <td>2022.0</td>\n",
       "      <td>5.0</td>\n",
       "      <td>8.0</td>\n",
       "      <td>May</td>\n",
       "    </tr>\n",
       "    <tr>\n",
       "      <th>2413</th>\n",
       "      <td>2 bedroom Mayfair flat on prestigious Mount st...</td>\n",
       "      <td>Alca-Pass The Keys</td>\n",
       "      <td>Westminster</td>\n",
       "      <td>51.50923</td>\n",
       "      <td>-0.15232</td>\n",
       "      <td>Entire home/apt</td>\n",
       "      <td>782</td>\n",
       "      <td>2</td>\n",
       "      <td>15</td>\n",
       "      <td>0.20</td>\n",
       "      <td>1</td>\n",
       "      <td>71</td>\n",
       "      <td>13</td>\n",
       "      <td>391.0</td>\n",
       "      <td>2022.0</td>\n",
       "      <td>8.0</td>\n",
       "      <td>14.0</td>\n",
       "      <td>August</td>\n",
       "    </tr>\n",
       "    <tr>\n",
       "      <th>3745</th>\n",
       "      <td>3 bedroom flat in St Johns wood</td>\n",
       "      <td>Yakir</td>\n",
       "      <td>Westminster</td>\n",
       "      <td>51.53057</td>\n",
       "      <td>-0.17869</td>\n",
       "      <td>Entire home/apt</td>\n",
       "      <td>350</td>\n",
       "      <td>1</td>\n",
       "      <td>0</td>\n",
       "      <td>NaN</td>\n",
       "      <td>1</td>\n",
       "      <td>0</td>\n",
       "      <td>0</td>\n",
       "      <td>350.0</td>\n",
       "      <td>NaN</td>\n",
       "      <td>NaN</td>\n",
       "      <td>NaN</td>\n",
       "      <td>NaN</td>\n",
       "    </tr>\n",
       "    <tr>\n",
       "      <th>4279</th>\n",
       "      <td>★ Spacious Apartment - Covent Garden ★</td>\n",
       "      <td>Ian</td>\n",
       "      <td>Westminster</td>\n",
       "      <td>51.50694</td>\n",
       "      <td>-0.12365</td>\n",
       "      <td>Entire home/apt</td>\n",
       "      <td>450</td>\n",
       "      <td>1</td>\n",
       "      <td>56</td>\n",
       "      <td>0.62</td>\n",
       "      <td>8</td>\n",
       "      <td>257</td>\n",
       "      <td>8</td>\n",
       "      <td>450.0</td>\n",
       "      <td>2022.0</td>\n",
       "      <td>8.0</td>\n",
       "      <td>3.0</td>\n",
       "      <td>August</td>\n",
       "    </tr>\n",
       "    <tr>\n",
       "      <th>5625</th>\n",
       "      <td>Lovely 2 bed at Garrick Street - CG10</td>\n",
       "      <td>Stayo</td>\n",
       "      <td>Westminster</td>\n",
       "      <td>51.51256</td>\n",
       "      <td>-0.12637</td>\n",
       "      <td>Entire home/apt</td>\n",
       "      <td>346</td>\n",
       "      <td>1</td>\n",
       "      <td>93</td>\n",
       "      <td>1.09</td>\n",
       "      <td>66</td>\n",
       "      <td>91</td>\n",
       "      <td>25</td>\n",
       "      <td>346.0</td>\n",
       "      <td>2022.0</td>\n",
       "      <td>8.0</td>\n",
       "      <td>19.0</td>\n",
       "      <td>August</td>\n",
       "    </tr>\n",
       "  </tbody>\n",
       "</table>\n",
       "</div>"
      ],
      "text/plain": [
       "                                                   name           host_name  \\\n",
       "324                     Stunning Home in Central London              Arvind   \n",
       "2413  2 bedroom Mayfair flat on prestigious Mount st...  Alca-Pass The Keys   \n",
       "3745                    3 bedroom flat in St Johns wood               Yakir   \n",
       "4279             ★ Spacious Apartment - Covent Garden ★                 Ian   \n",
       "5625              Lovely 2 bed at Garrick Street - CG10               Stayo   \n",
       "\n",
       "     neighbourhood  latitude  longitude        room_type  price  \\\n",
       "324    Westminster  51.53108   -0.18058  Entire home/apt    500   \n",
       "2413   Westminster  51.50923   -0.15232  Entire home/apt    782   \n",
       "3745   Westminster  51.53057   -0.17869  Entire home/apt    350   \n",
       "4279   Westminster  51.50694   -0.12365  Entire home/apt    450   \n",
       "5625   Westminster  51.51256   -0.12637  Entire home/apt    346   \n",
       "\n",
       "      minimum_nights  number_of_reviews  reviews_per_month  \\\n",
       "324                1                 14               0.13   \n",
       "2413               2                 15               0.20   \n",
       "3745               1                  0                NaN   \n",
       "4279               1                 56               0.62   \n",
       "5625               1                 93               1.09   \n",
       "\n",
       "      calculated_host_listings_count  availability_365  number_of_reviews_ltm  \\\n",
       "324                                1               365                      1   \n",
       "2413                               1                71                     13   \n",
       "3745                               1                 0                      0   \n",
       "4279                               8               257                      8   \n",
       "5625                              66                91                     25   \n",
       "\n",
       "      price_per_night  last_review_year  last_review_month  last_review_day  \\\n",
       "324             500.0            2022.0                5.0              8.0   \n",
       "2413            391.0            2022.0                8.0             14.0   \n",
       "3745            350.0               NaN                NaN              NaN   \n",
       "4279            450.0            2022.0                8.0              3.0   \n",
       "5625            346.0            2022.0                8.0             19.0   \n",
       "\n",
       "     Month_name  \n",
       "324         May  \n",
       "2413     August  \n",
       "3745        NaN  \n",
       "4279     August  \n",
       "5625     August  "
      ]
     },
     "execution_count": 52,
     "metadata": {},
     "output_type": "execute_result"
    }
   ],
   "source": [
    "df_Westminster[df_Westminster[\"price_per_night\"]>320].head()"
   ]
  },
  {
   "cell_type": "code",
   "execution_count": 53,
   "id": "710f66f3",
   "metadata": {},
   "outputs": [
    {
     "data": {
      "text/plain": [
       "195"
      ]
     },
     "execution_count": 53,
     "metadata": {},
     "output_type": "execute_result"
    }
   ],
   "source": [
    "len(df_Westminster[df_Westminster[\"price_per_night\"]>320][\"host_name\"].unique())"
   ]
  },
  {
   "cell_type": "code",
   "execution_count": 54,
   "id": "cd4617b1",
   "metadata": {},
   "outputs": [
    {
     "data": {
      "text/plain": [
       "2173"
      ]
     },
     "execution_count": 54,
     "metadata": {},
     "output_type": "execute_result"
    }
   ],
   "source": [
    "len(df_Westminster[\"host_name\"].unique())"
   ]
  },
  {
   "cell_type": "code",
   "execution_count": 55,
   "id": "4e7b4997",
   "metadata": {},
   "outputs": [
    {
     "data": {
      "text/plain": [
       "host_name\n",
       "COMO Metropolitan London    9428.00\n",
       "Azimali                     3059.00\n",
       "Seran                       2500.00\n",
       "Oya                         2500.00\n",
       "Pritam                      1735.00\n",
       "Bienvenido                  1700.00\n",
       "Caroline & Kai              1685.50\n",
       "Mohammed                    1500.00\n",
       "Wilson                      1142.00\n",
       "Veeve                       1006.75\n",
       "Name: price_per_night, dtype: float64"
      ]
     },
     "execution_count": 55,
     "metadata": {},
     "output_type": "execute_result"
    }
   ],
   "source": [
    "df_Westminster.groupby(\"host_name\")[\"price_per_night\"].median().sort_values(ascending=False).head(10)"
   ]
  },
  {
   "cell_type": "code",
   "execution_count": null,
   "id": "a7eac0b6",
   "metadata": {},
   "outputs": [],
   "source": []
  }
 ],
 "metadata": {
  "kernelspec": {
   "display_name": "Python 3",
   "language": "python",
   "name": "python3"
  },
  "language_info": {
   "codemirror_mode": {
    "name": "ipython",
    "version": 3
   },
   "file_extension": ".py",
   "mimetype": "text/x-python",
   "name": "python",
   "nbconvert_exporter": "python",
   "pygments_lexer": "ipython3",
   "version": "3.9.12"
  }
 },
 "nbformat": 4,
 "nbformat_minor": 5
}
